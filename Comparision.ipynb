{
  "nbformat": 4,
  "nbformat_minor": 0,
  "metadata": {
    "colab": {
      "provenance": [],
      "collapsed_sections": []
    },
    "kernelspec": {
      "name": "python3",
      "display_name": "Python 3"
    },
    "language_info": {
      "name": "python"
    }
  },
  "cells": [
    {
      "cell_type": "code",
      "execution_count": null,
      "metadata": {
        "id": "TmdbWSEZxkyO"
      },
      "outputs": [],
      "source": [
        "from sympy import *\n",
        "init_printing(use_unicode=True)\n",
        "\n",
        "M = Matrix([[6, 0, 0, 0], [0, 0, 0, 1], [9, 5, 3, 15],[1, 2, 6, 10]])\n",
        "print(\"The matrix print:\")\n",
        "M\n",
        "print(\"The reduced row echelon form:\")\n",
        "M.rref()\n",
        "print(\"The norm of the matrix is:\")\n",
        "M.norm()\n",
        "print(\"The rank of the matrix is:\")\n",
        "M.rank()\n",
        "print(\"The inverse of the matrix is:\")\n",
        "M.inv()\n",
        "print(\"Solving equations of the linear equation:\")\n",
        "a,b,c = symbols('a b c')\n",
        "linsolve(Matrix(([6, 0, 0, 0], [0, 0, 0, 1], [9, 5, 3, 15],[1, 2, 6, 10])), (a, b, c))\n",
        "\n",
        "\n"
      ]
    },
    {
      "cell_type": "code",
      "source": [
        "from sympy import *\n",
        "init_printing(use_unicode=True)\n",
        "\n",
        "M = Matrix([[9, 1, 12, 10], [2, -3, -2, -1], [0, 1, 0, 1],[5, 3, 4, 16]])\n",
        "print(\"The matrix print:\")\n",
        "M\n",
        "print(\"The reduced row echelon form:\")\n",
        "M.rref()\n",
        "print(\"The norm of the matrix is:\")\n",
        "M.norm()\n",
        "print(\"The rank of the matrix is:\")\n",
        "M.rank()\n",
        "print(\"The inverse of the matrix is:\")\n",
        "M.inv()\n",
        "print(\"Solving equations of the linear equation:\")\n",
        "a,b,c = symbols('a b c')\n",
        "linsolve(Matrix(([9, 1, 12, 10], [2, -3, -2, -1], [0, 1, 0, 1],[5, 3, 4, 16]])), (a, b, c))\n",
        "\n",
        "\n"
      ],
      "metadata": {
        "id": "jdFlm4VCD06E"
      },
      "execution_count": null,
      "outputs": []
    },
    {
      "cell_type": "code",
      "source": [
        "from sympy import *\n",
        "init_printing(use_unicode=True)\n",
        "\n",
        "M = Matrix([[1, 0, 4, -6], [2, 5, 1, 0], [-1, 2, 3, -10],[1, -2, 2, -2]])\n",
        "print(\"The matrix print:\")\n",
        "M\n",
        "print(\"The reduced row echelon form:\")\n",
        "M.rref()\n",
        "print(\"The norm of the matrix is:\")\n",
        "M.norm()\n",
        "print(\"The rank of the matrix is:\")\n",
        "M.rank()\n",
        "print(\"The inverse of the matrix is:\")\n",
        "M.inv()\n",
        "print(\"Solving equations of the linear equation:\")\n",
        "a,b,c = symbols('a b c')\n",
        "linsolve(Matrix(([1, 0, 4, -6], [2, 5, 1, 0], [-1, 2, 3, -10],[1, -2, 2, -2])), (a, b, c))\n",
        "\n",
        "\n"
      ],
      "metadata": {
        "id": "602_ADSIA05M"
      },
      "execution_count": null,
      "outputs": []
    },
    {
      "cell_type": "code",
      "source": [
        "from sympy import *\n",
        "init_printing(use_unicode=True)\n",
        "\n",
        "M = Matrix([[2, -3, 5, 8, -10], [-4, 6, -10, -16, 20], [3, 0, 5, 10, 6],[10, 40, 50, 5, 1],[0, 1, 16, 8, 5]])\n",
        "print(\"The matrix print:\")\n",
        "M\n",
        "print(\"The reduced row echelon form:\")\n",
        "M.rref()\n",
        "print(\"The norm of the matrix is:\")\n",
        "M.norm()\n",
        "print(\"The rank of the matrix is:\")\n",
        "M.rank()\n",
        "print(\"The inverse of the matrix is:\")\n",
        "M.inv()\n",
        "print(\"Solving equations of the linear equation:\")\n",
        "a,b,c = symbols('a b c')\n",
        "linsolve(Matrix(([2, -3, 5, 8, -10], [-4, 6, -10, -16, 20], [3, 0, 5, 10, 6],[10, 40, 50, 5, 1],[0, 1, 16, 8, 5])), (a, b, c))\n",
        "\n",
        "\n"
      ],
      "metadata": {
        "id": "r3maig3_BHnQ"
      },
      "execution_count": null,
      "outputs": []
    },
    {
      "cell_type": "code",
      "source": [
        "from sympy import *\n",
        "init_printing(use_unicode=True)\n",
        "\n",
        "M = Matrix([[1, 2, 0, 4, 0], [10, -5, 2, 4, 2], [0, 1, 0, 1, 1],[0, 0, 0, 0, 0],[1, 0, 2, 9,15]])\n",
        "print(\"The matrix print:\")\n",
        "M\n",
        "print(\"The reduced row echelon form:\")\n",
        "M.rref()\n",
        "print(\"The norm of the matrix is:\")\n",
        "M.norm()\n",
        "print(\"The rank of the matrix is:\")\n",
        "M.rank()\n",
        "print(\"The inverse of the matrix is:\")\n",
        "M.inv()\n",
        "print(\"Solving equations of the linear equation:\")\n",
        "a,b,c,d = symbols('a b c d')\n",
        "linsolve(Matrix(([1, 2, 0, 4, 0], [10, -5, 2, 4, 2], [0, 1, 0, 1, 1],[0, 0, 0, 0, 0],[1, 0, 2, 9, 15])), (a, b, c, d))\n",
        "\n",
        "\n"
      ],
      "metadata": {
        "id": "hIemJoLXBUp2"
      },
      "execution_count": null,
      "outputs": []
    },
    {
      "cell_type": "code",
      "source": [
        "from sympy import *\n",
        "init_printing(use_unicode=True)\n",
        "\n",
        "M = Matrix([[1, 1, 1, 1, 1], [5, 10, 15, 20, 25], [2, -10, 11, 13, 17],[25, 2, 21, 7, 14],[0, 0, 0, 0, 1]])\n",
        "print(\"The matrix print:\")\n",
        "M\n",
        "print(\"The reduced row echelon form:\")\n",
        "M.rref()\n",
        "print(\"The norm of the matrix is:\")\n",
        "M.norm()\n",
        "print(\"The rank of the matrix is:\")\n",
        "M.rank()\n",
        "print(\"The inverse of the matrix is:\")\n",
        "M.inv()\n",
        "print(\"Solving equations of the linear equation:\")\n",
        "a,b,c,d = symbols('a b c d')\n",
        "linsolve(Matrix(([1, 1, 1, 1, 1], [5, 10, 15, 20, 25], [2, -10, 11, 13, 17],[25, 2, 21, 7, 14],[0, 0, 0, 0, 1])), (a, b, c, d))\n",
        "\n",
        "\n"
      ],
      "metadata": {
        "id": "yh3QmL5LCUS7"
      },
      "execution_count": null,
      "outputs": []
    }
  ]
}